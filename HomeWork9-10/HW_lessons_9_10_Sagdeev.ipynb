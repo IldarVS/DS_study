{
  "nbformat": 4,
  "nbformat_minor": 0,
  "metadata": {
    "colab": {
      "name": "HW_lessons_9-10_Sagdeev.ipynb",
      "provenance": [],
      "collapsed_sections": []
    },
    "kernelspec": {
      "name": "python3",
      "display_name": "Python 3"
    }
  },
  "cells": [
    {
      "cell_type": "markdown",
      "metadata": {
        "id": "SgxdX4L0dSw7"
      },
      "source": [
        "# Домашнее задание"
      ]
    },
    {
      "cell_type": "markdown",
      "metadata": {
        "id": "piodEhR7orUF"
      },
      "source": [
        "Ноутбук в колаб: https://colab.research.google.com/drive/1d-vvpJW8IWSPeodFnfaEVaZIQrys8uU0?usp=sharing"
      ]
    },
    {
      "cell_type": "markdown",
      "metadata": {
        "id": "r3_T-pcpnme8"
      },
      "source": [
        "**Дедлайн: 01.01.2021, 23:59**\n"
      ]
    },
    {
      "cell_type": "markdown",
      "metadata": {
        "id": "B2RmFtRDn5vy"
      },
      "source": [
        "Формат отчетности - jupyter notebook. Однако вычислять производные не обязательно в Markdown. Если вычисляете вручную, то дополнительно с ноутбуком, отправляйте pdf-файл с расписанным решением."
      ]
    },
    {
      "cell_type": "markdown",
      "metadata": {
        "id": "aCDx6dKzeEhp"
      },
      "source": [
        "### Пример реализации градиентного спуска: https://github.com/ddvika/Data-Science-School-2020/blob/main/lecture_9/gradient_methods.ipynb"
      ]
    },
    {
      "cell_type": "markdown",
      "metadata": {
        "id": "t-G1btbwoStu"
      },
      "source": [
        "# Задания"
      ]
    },
    {
      "cell_type": "markdown",
      "metadata": {
        "id": "Us7FbFrlqLy0"
      },
      "source": [
        "https://colab.research.google.com/drive/1p4qOzoLQJDGAY34LAJUUcD2KX7PRlA40?usp=sharing"
      ]
    },
    {
      "cell_type": "markdown",
      "metadata": {
        "id": "B1XambpmoeIj"
      },
      "source": [
        "Перед выполнением ДЗ посмотрите на ноутбук, прикрепленный по ссылке выше. Там вы найдете реализацию градиентного спуска с постоянным и дробным шагом."
      ]
    },
    {
      "cell_type": "markdown",
      "metadata": {
        "id": "VnSTXgrueAp0"
      },
      "source": [
        "### Задание 1. [1 point]"
      ]
    },
    {
      "cell_type": "markdown",
      "metadata": {
        "id": "-XmQ1AO9f1Qz"
      },
      "source": [
        "Релизуйте градиентный спуск с постоянным шагом и с дробным шагом для функции\n",
        "$$\n",
        "y = x_{1}^{2}+5 x_{2}^{2}\n",
        "$$\n",
        "\n",
        "в произвольно выбранной Вами точке."
      ]
    },
    {
      "cell_type": "code",
      "metadata": {
        "id": "tt9E1vEb79j3"
      },
      "source": [
        "import numpy as np"
      ],
      "execution_count": null,
      "outputs": []
    },
    {
      "cell_type": "code",
      "metadata": {
        "id": "Vswd8APwWogd"
      },
      "source": [
        "def f(x):\r\n",
        "    return x[0]**2+5*x[1]**2\r\n",
        "    \r\n",
        "def grad_f(x):\r\n",
        "    return np.array([2*x[0], 10*x[1]])"
      ],
      "execution_count": null,
      "outputs": []
    },
    {
      "cell_type": "markdown",
      "metadata": {
        "id": "QuYiAqfi8d6E"
      },
      "source": [
        "Градиентный спуск с постоянным шагом"
      ]
    },
    {
      "cell_type": "code",
      "metadata": {
        "id": "pL-Z3B2OWogf"
      },
      "source": [
        "def grad_descent_const_step(x = np.array([1, 1]), alpha = 0.001, epsilon = 0.05):\n",
        "    grad = grad_f(x)\n",
        "    n = 0\n",
        "    check = 0\n",
        "    while (np.linalg.norm(grad) > epsilon) or (check < 3):\n",
        "        x = x - alpha*grad\n",
        "        grad = grad_f(x)\n",
        "        n+=1\n",
        "        if (np.linalg.norm(grad) <= epsilon): check +=1\n",
        "    print(\"Градиентный спуст с постоянным шагом выполнил {} шагов\".format(n))\n",
        "    print(\"Точка с координатами х1 = {}, x2 = {}\".format(x[0], x[1]))\n",
        "    return x"
      ],
      "execution_count": null,
      "outputs": []
    },
    {
      "cell_type": "code",
      "metadata": {
        "colab": {
          "base_uri": "https://localhost:8080/"
        },
        "id": "Cj2as-bi8m_u",
        "outputId": "9ca8ce63-4ef1-4832-9ce4-70d090d6ef2b"
      },
      "source": [
        "x = grad_descent_const_step()"
      ],
      "execution_count": null,
      "outputs": [
        {
          "output_type": "stream",
          "text": [
            "Градиентный спуст с постоянным шагом выполнил 2649 шагов\n",
            "Точка с координатами х1 = 0.024875617747415608, x2 = 2.739242548427993e-12\n"
          ],
          "name": "stdout"
        }
      ]
    },
    {
      "cell_type": "code",
      "metadata": {
        "colab": {
          "base_uri": "https://localhost:8080/"
        },
        "id": "Q6p7Ye1X8m8t",
        "outputId": "1c3cb42e-0e30-4e4b-b517-ed9945708df4"
      },
      "source": [
        "x = grad_descent_const_step(alpha = 0.01)"
      ],
      "execution_count": null,
      "outputs": [
        {
          "output_type": "stream",
          "text": [
            "Градиентный спуст с постоянным шагом выполнил 185 шагов\n",
            "Точка с координатами х1 = 0.02381354235199539, x2 = 3.426606593921724e-09\n"
          ],
          "name": "stdout"
        }
      ]
    },
    {
      "cell_type": "code",
      "metadata": {
        "colab": {
          "base_uri": "https://localhost:8080/"
        },
        "id": "CtvhmW3K9dXx",
        "outputId": "155c92ca-be42-43f1-fda8-1268035ced52"
      },
      "source": [
        "x = grad_descent_const_step(alpha = 0.1)"
      ],
      "execution_count": null,
      "outputs": [
        {
          "output_type": "stream",
          "text": [
            "Градиентный спуст с постоянным шагом выполнил 19 шагов\n",
            "Точка с координатами х1 = 0.014411518807585589, x2 = 0.0\n"
          ],
          "name": "stdout"
        }
      ]
    },
    {
      "cell_type": "markdown",
      "metadata": {
        "id": "Iv3JfVzC9ou_"
      },
      "source": [
        "Градиентный спуск с дроблением шага"
      ]
    },
    {
      "cell_type": "code",
      "metadata": {
        "id": "qc18wFLG9wvs"
      },
      "source": [
        "def grad_descent_step_splitting(x = np.array([1, 1]), alpha = 1, epsilon = 0.05, ksi = 0.5, lambda_d = 0.35):\r\n",
        "    grad = grad_f(x)\r\n",
        "    n = 0\r\n",
        "    n_alpha = 0\r\n",
        "    alpha_k = alpha\r\n",
        "    x_k0 = x\r\n",
        "    check = 0\r\n",
        "    while np.linalg.norm(grad) > epsilon or check < 3:\r\n",
        "        grad = grad_f(x_k0)\r\n",
        "        x_k1 = x_k0 - alpha_k*grad\r\n",
        "        while f(x_k1) - f(x_k0) > - alpha_k * ksi * (np.linalg.norm(grad)**2):\r\n",
        "            alpha_k *= lambda_d\r\n",
        "            x_k1 = x_k0 - alpha_k*grad\r\n",
        "            n_alpha+=1\r\n",
        "        x_k0 = x_k0 - alpha_k*grad\r\n",
        "        alpha_k = alpha\r\n",
        "        n+=1\r\n",
        "        if (np.linalg.norm(grad) <= epsilon): check +=1\r\n",
        "    x = x_k0\r\n",
        "    print(\"Градиентный спуст с дроблением шага выполнил {} шагов\".format(n))\r\n",
        "    print(\"Выполнено {} итераций дробления шага\".format(n_alpha))\r\n",
        "    print(\"Точка с координатами х1 = {}, x2 = {}\".format(x[0], x[1]))\r\n",
        "    return x"
      ],
      "execution_count": null,
      "outputs": []
    },
    {
      "cell_type": "code",
      "metadata": {
        "colab": {
          "base_uri": "https://localhost:8080/"
        },
        "id": "pHKPYNx--3lb",
        "outputId": "c923c117-acd9-4e5c-db2c-0b27db9d2b98"
      },
      "source": [
        "x = grad_descent_step_splitting()"
      ],
      "execution_count": null,
      "outputs": [
        {
          "output_type": "stream",
          "text": [
            "Градиентный спуст с дроблением шага выполнил 3 шагов\n",
            "Выполнено 0 итераций дробления шага\n",
            "Точка с координатами х1 = 0, x2 = 0\n"
          ],
          "name": "stdout"
        }
      ]
    },
    {
      "cell_type": "code",
      "metadata": {
        "colab": {
          "base_uri": "https://localhost:8080/"
        },
        "id": "XGqi8XiiWogi",
        "outputId": "9a7a95d6-4e4e-4833-f66e-2950142d7d54"
      },
      "source": [
        "a = grad_descent_step_splitting(alpha = 2)"
      ],
      "execution_count": null,
      "outputs": [
        {
          "output_type": "stream",
          "text": [
            "Градиентный спуст с дроблением шага выполнил 3 шагов\n",
            "Выполнено 0 итераций дробления шага\n",
            "Точка с координатами х1 = 0, x2 = 0\n"
          ],
          "name": "stdout"
        }
      ]
    },
    {
      "cell_type": "markdown",
      "metadata": {
        "id": "XAXdL_PDgYpS"
      },
      "source": [
        "Поэксперементируйте с разными значениями шага (скорости обучения), попробуйте хотя бы по 2-3 разных значения."
      ]
    },
    {
      "cell_type": "markdown",
      "metadata": {
        "id": "ucbvMBsdgOwV"
      },
      "source": [
        "### Задание 2. [3 points]\n",
        "\n",
        "Для функции из предыдущего задания реализуйте градиентный спуск, в котором значение шага (скорости обучения) будет изменяться по формуле циклического косинусного ожига. ( в англ. литературе - cosine annealing learning rate или cosine decay lr). \n",
        "\n",
        "Доп. литература:\n",
        "- Циклический косинусный отжиг https://habr.com/ru/post/332534/\n",
        "\n",
        "- Пример colise decay в библиотеке Pytorch:\n",
        "https://www.programmersought.com/article/12164650026/"
      ]
    },
    {
      "cell_type": "markdown",
      "metadata": {
        "id": "d2Non6JiiVoJ"
      },
      "source": [
        "### Задание 3. [0.75 point]\n",
        "Проверьте работу Вашего градиентного спуска с косинусным отжигом на произвольной функции ( полином должен быть не меньше 3-ьего порядка и задан в пространстве не меньше $R^3$)."
      ]
    },
    {
      "cell_type": "markdown",
      "metadata": {
        "id": "UpONErtji81D"
      },
      "source": [
        "### Задание 4.\n",
        "Дана следующая плотность вероятности для случайной величины Х:\n",
        "$$\n",
        "f(x)=\\left\\{\\begin{array}{r}\n",
        "0 \\text { npu } x \\leq \\pi \\\\\n",
        "-\\cos x \\text { npu } \\pi<x \\leq \\frac{3}{2} \\pi \\\\\n",
        "\\text { 0 npu } x>\\frac{3}{2} \\pi\n",
        "\\end{array}\\right.\n",
        "$$\n",
        "\n",
        "1. Постройте график данной плотности вероятности **[0.25 point]**\n",
        "\n",
        "2. Определить вероятность попадания случайной величины X в интервал $\\left[\\pi, \\frac{5}{4} \\pi\\right]$ **[0.75 point]**\n",
        "\n",
        "3. Найти математическое ожидание и дисперсию случайной величины X . **[0.75 point]**\n",
        "\n",
        "Так как мы не проходили интегрирование, то в 2 и 3 пунктах можете использовать\n",
        "wolfram alpha (https://www.wolframalpha.com) для интегрирования. "
      ]
    },
    {
      "cell_type": "code",
      "metadata": {
        "colab": {
          "base_uri": "https://localhost:8080/",
          "height": 295
        },
        "id": "2v3-532wFTTw",
        "outputId": "8a833343-ba54-4ce0-c92a-8cadf254b77d"
      },
      "source": [
        "import numpy as np\r\n",
        "import matplotlib.pyplot as plt\r\n",
        "def F(x):\r\n",
        "    y = []\r\n",
        "    for xi in x:\r\n",
        "        if xi <= np.pi: \r\n",
        "            y.append(0)\r\n",
        "        elif np.pi < xi <= np.pi* 3/2:\r\n",
        "            y.append(-np.cos(xi))\r\n",
        "        else: \r\n",
        "            y.append(0)\r\n",
        "    return y\r\n",
        "x = np.arange(-10, 10, 0.1)\r\n",
        "plt.plot(x, F(x))\r\n",
        "plt.title('Плотность вероятности f(x)')\r\n",
        "plt.xlabel('x')\r\n",
        "plt.ylabel('y')\r\n",
        "plt.show()"
      ],
      "execution_count": null,
      "outputs": [
        {
          "output_type": "display_data",
          "data": {
            "image/png": "[encoded data removed]",
            "text/plain": [
              "<Figure size 432x288 with 1 Axes>"
            ]
          },
          "metadata": {
            "tags": [],
            "needs_background": "light"
          }
        }
      ]
    },
    {
      "cell_type": "markdown",
      "metadata": {
        "id": "986lhuHMd-uj"
      },
      "source": [
        "Вероятность попадания случайной величины X в интервал $\\left[\\pi, \\frac{5}{4} \\pi\\right]$ = 1, так как плотность распределения, равная 1 находится в интервале $\\left[\\pi, \\frac{6}{4} \\pi\\right]$"
      ]
    },
    {
      "cell_type": "markdown",
      "metadata": {
        "id": "P8ocbNkgcHB3"
      },
      "source": [
        "Математическое ожидание - интегралы от $x*0 + x* (-cos(x)) + x*0 = Интеграл(x* (-cos(x)))  \\left[\\pi, \\frac{3}{2} \\pi\\right]=(-x*cos(x) - sin(x)) \\left[\\pi, \\frac{3}{2} \\pi\\right] = - \\frac{3}{2} \\pi * (0) - (-1) - (-\\pi)*(-1) + 0 = 1-\\pi$"
      ]
    },
    {
      "cell_type": "code",
      "metadata": {
        "colab": {
          "base_uri": "https://localhost:8080/"
        },
        "id": "saqXOB-BhXWn",
        "outputId": "3bc7365f-a9b1-4ec8-e97f-1ec7f4d77e6d"
      },
      "source": [
        "def M(x):\r\n",
        "  return (-x*np.cos(x) - np.sin(x))\r\n",
        "\r\n",
        "def G(x):\r\n",
        "  return (-(x**2 -2)* np.sin(x) - 2*x*np.cos(x))\r\n",
        "m =  M(np.pi*3/2) - M(np.pi)\r\n",
        "\r\n",
        "g = G(np.pi*3/2) - G(np.pi) - m**2\r\n",
        "print(f'математическое ожидание = {m}, дисперсия = {g}')"
      ],
      "execution_count": 23,
      "outputs": [
        {
          "output_type": "stream",
          "text": [
            "математическое ожидание = -2.1415926535897922, дисперсия = 9.337005501361702\n"
          ],
          "name": "stdout"
        }
      ]
    },
    {
      "cell_type": "markdown",
      "metadata": {
        "id": "-LrqILMHkgTd"
      },
      "source": [
        "### Задание 5 [1.5 point]\n",
        "\n",
        " Случайная величина Х задана функцией распределения F(x).\n",
        "\n",
        " $$F(x)=\\left\\{\\begin{array}{c}0, x \\leq 1 \\\\ x-1,1<x \\leq 2 \\\\ 1, x>2\\end{array}\\right.$$\n",
        "\n",
        " 1. Является ли случайная величина Х непрерывной?\n",
        "\n",
        " 2. имеет ли случайная величина Х плотность вероятности f(X)? Если имеет, найти ее. \n",
        " 3. постройте графики f(X) и F(X), если такое возможно.\n"
      ]
    },
    {
      "cell_type": "markdown",
      "metadata": {
        "id": "wdQiTGnE78bD"
      },
      "source": [
        "1.случайная величина X явлется непрерывной т.к составлена из элементарных функций на непрерывной области определения, а по определению все элементарные функции являются непрерывными в любой точке свой области определения.\r\n",
        "\r\n",
        "2. $$f(X) = F'(x)=\\left\\{\\begin{array}{c}0, x \\leq 1 \\\\ 1,1<x \\leq 2 \\\\ 0, x>2\\end{array}\\right.$$"
      ]
    },
    {
      "cell_type": "code",
      "metadata": {
        "colab": {
          "base_uri": "https://localhost:8080/",
          "height": 295
        },
        "id": "-btNHyyOCeUO",
        "outputId": "7ac88d9e-ec50-497a-f90e-e1c86e75a766"
      },
      "source": [
        "import numpy as np\r\n",
        "import matplotlib.pyplot as plt\r\n",
        "def F(x):\r\n",
        "    y = []\r\n",
        "    for xi in x:\r\n",
        "        if xi <= 1: \r\n",
        "            y.append(0)\r\n",
        "        elif 1 < xi <= 2:\r\n",
        "            y.append(xi-1)\r\n",
        "        else: \r\n",
        "            y.append(1)\r\n",
        "    return y\r\n",
        "x = np.arange(-10, 10, 0.1)\r\n",
        "plt.plot(x, F(x))\r\n",
        "plt.title('функция распределения F(x)')\r\n",
        "plt.xlabel('x')\r\n",
        "plt.ylabel('y')\r\n",
        "plt.show()"
      ],
      "execution_count": null,
      "outputs": [
        {
          "output_type": "display_data",
          "data": {
            "image/png": "[encoded data removed]",
            "text/plain": [
              "<Figure size 432x288 with 1 Axes>"
            ]
          },
          "metadata": {
            "tags": [],
            "needs_background": "light"
          }
        }
      ]
    },
    {
      "cell_type": "code",
      "metadata": {
        "colab": {
          "base_uri": "https://localhost:8080/",
          "height": 295
        },
        "id": "Rd24q7z6EW8T",
        "outputId": "8e778c9f-5054-48f1-ca3e-3e66ca3f3aed"
      },
      "source": [
        "def f(x):\r\n",
        "    y = []\r\n",
        "    for xi in x:\r\n",
        "        if xi <= 1: \r\n",
        "            y.append(0)\r\n",
        "        elif 1 < xi <= 2:\r\n",
        "            y.append(1)\r\n",
        "        else: \r\n",
        "            y.append(0)\r\n",
        "    return y\r\n",
        "\r\n",
        "\r\n",
        "x = np.arange(-10, 10, 0.1)\r\n",
        "plt.plot(x, f(x))\r\n",
        "plt.title('плотность вероятности f(X)')\r\n",
        "plt.xlabel('x')\r\n",
        "plt.ylabel('y')\r\n",
        "plt.show()"
      ],
      "execution_count": null,
      "outputs": [
        {
          "output_type": "display_data",
          "data": {
            "image/png": "[encoded data removed]",
            "text/plain": [
              "<Figure size 432x288 with 1 Axes>"
            ]
          },
          "metadata": {
            "tags": [],
            "needs_background": "light"
          }
        }
      ]
    },
    {
      "cell_type": "markdown",
      "metadata": {
        "id": "xzQy9iYWmGD5"
      },
      "source": [
        "### Задание 6\n",
        "\n",
        "Рассмотрим несбалансированный набор данных с соотношением меньшего класса к большему 1: 100, где 100 экземпляров принадлежит меньшему классу, а 10 000 большему.\n",
        "\n",
        "Модель ML делает прогнозы и предсказывает 120 примеров как принадлежащих к классу меньшинства, 90 из которых верны, а 30 - неверны.\n",
        "\n",
        "Найти:\n",
        "\n",
        "- Precision **[0.5 point]**\n",
        "- Recall **[0.5 point]**\n",
        "- $F_1$ метрику **[0.5 point]**"
      ]
    },
    {
      "cell_type": "code",
      "metadata": {
        "id": "dnkSjI5tdWJe",
        "colab": {
          "base_uri": "https://localhost:8080/"
        },
        "outputId": "b0b7551a-1efb-4513-9ee2-cc05fde74c8f"
      },
      "source": [
        "TP,FP,FN = 90,30,120-100\r\n",
        "precision = TP/(TP + FP)\r\n",
        "recall =  TP/(TP + FN)\r\n",
        "b = 1\r\n",
        "fb = (1 + b**2)*precision*recall/(precision*b**2 + recall)\r\n",
        "print(f'Precision= {precision}, Recall = {recall}, F1 = {fb}')"
      ],
      "execution_count": null,
      "outputs": [
        {
          "output_type": "stream",
          "text": [
            "Precision= 0.75, Recall = 0.8181818181818182, F1 = 0.7826086956521738\n"
          ],
          "name": "stdout"
        }
      ]
    },
    {
      "cell_type": "code",
      "metadata": {
        "id": "Mye_Q-jgdP0g"
      },
      "source": [
        ""
      ],
      "execution_count": null,
      "outputs": []
    }
  ]
}