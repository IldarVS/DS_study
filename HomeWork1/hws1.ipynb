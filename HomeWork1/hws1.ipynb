{
  "nbformat": 4,
  "nbformat_minor": 0,
  "metadata": {
    "colab": {
      "name": "hws1.ipynb",
      "provenance": [],
      "collapsed_sections": []
    },
    "kernelspec": {
      "name": "python3",
      "display_name": "Python 3"
    }
  },
  "cells": [
    {
      "cell_type": "markdown",
      "metadata": {
        "id": "X2OqZmji26T8"
      },
      "source": [
        "Задания для самостоятельного выполнения\n",
        "Подсказка! проверяйте ваше решение по тому, что уже есть в блоках вывода ячеек"
      ]
    },
    {
      "cell_type": "markdown",
      "metadata": {
        "id": "k2MyaP653F8q"
      },
      "source": [
        "#Задание 1\n",
        "Создайте список (list) с элементами от 1 до 10 включительно двумя разными способами:\n",
        "\n",
        "при помощи list comprehensions\n",
        "при помощи цикла for"
      ]
    },
    {
      "cell_type": "code",
      "metadata": {
        "colab": {
          "base_uri": "https://localhost:8080/"
        },
        "id": "XFlF1db-3P9I",
        "outputId": "e2005672-6b1f-4664-dd37-1faf09eca603"
      },
      "source": [
        "#Ваше решение тут\n",
        "list1 = [i for i in range(1,11)]\n",
        "list1"
      ],
      "execution_count": null,
      "outputs": [
        {
          "output_type": "execute_result",
          "data": {
            "text/plain": [
              "[1, 2, 3, 4, 5, 6, 7, 8, 9, 10]"
            ]
          },
          "metadata": {
            "tags": []
          },
          "execution_count": 2
        }
      ]
    },
    {
      "cell_type": "code",
      "metadata": {
        "colab": {
          "base_uri": "https://localhost:8080/"
        },
        "id": "WvYo50Kp3aJJ",
        "outputId": "5e884727-5958-41d0-d863-5f43c67550f0"
      },
      "source": [
        "list2 = []\n",
        "for i in range(1,11):\n",
        "    list2.append(i)\n",
        "list2"
      ],
      "execution_count": null,
      "outputs": [
        {
          "output_type": "execute_result",
          "data": {
            "text/plain": [
              "[1, 2, 3, 4, 5, 6, 7, 8, 9, 10]"
            ]
          },
          "metadata": {
            "tags": []
          },
          "execution_count": 3
        }
      ]
    },
    {
      "cell_type": "markdown",
      "metadata": {
        "id": "py1F2N2j3vCf"
      },
      "source": [
        "#Задание 2\n",
        "Создайте список (list) с четными элементами из промежутка от 1 до 10 включительно двумя разными способами:\n",
        "\n",
        "при помощи list comprehensions\n",
        "при помощи цикла for"
      ]
    },
    {
      "cell_type": "code",
      "metadata": {
        "colab": {
          "base_uri": "https://localhost:8080/"
        },
        "id": "GGE9jZAB3x8m",
        "outputId": "1cb07662-a57c-42e3-b598-bc69bbe91d08"
      },
      "source": [
        "#Ваше решение тут\n",
        "list1 = [i + 1 for i in range(1,11,2)]\n",
        "list1"
      ],
      "execution_count": null,
      "outputs": [
        {
          "output_type": "execute_result",
          "data": {
            "text/plain": [
              "[2, 4, 6, 8, 10]"
            ]
          },
          "metadata": {
            "tags": []
          },
          "execution_count": 4
        }
      ]
    },
    {
      "cell_type": "code",
      "metadata": {
        "colab": {
          "base_uri": "https://localhost:8080/"
        },
        "id": "CplDUGdy36Io",
        "outputId": "e834bd1c-5f08-48b2-c820-bf43540dd108"
      },
      "source": [
        "list2 = []\n",
        "for i in range(1,11,2):\n",
        "    list2.append(i + 1)\n",
        "list2"
      ],
      "execution_count": null,
      "outputs": [
        {
          "output_type": "execute_result",
          "data": {
            "text/plain": [
              "[2, 4, 6, 8, 10]"
            ]
          },
          "metadata": {
            "tags": []
          },
          "execution_count": 5
        }
      ]
    },
    {
      "cell_type": "markdown",
      "metadata": {
        "id": "ART_Rcf8_D1Q"
      },
      "source": [
        "# Задание 3\n",
        "присвойте переменной **x** следующее значение:\n",
        "$$\n",
        "x=100^{3^{2}}-\\frac{10^{3}}{5^{2}}\n",
        "$$\n",
        "Выведите, чему теперь равна переменная **x**"
      ]
    },
    {
      "cell_type": "code",
      "metadata": {
        "colab": {
          "base_uri": "https://localhost:8080/"
        },
        "id": "NoUIOztI5KMb",
        "outputId": "85361d63-7e7c-4d23-a8e0-01d7ca9ae17e"
      },
      "source": [
        "#Ваше решение тут\n",
        "x = (100**3)**2 - (10**3)/(5**2) # чтобы получить ответ как у преподавателя нужно (100 в кубе) в квадрате\n",
        "x"
      ],
      "execution_count": null,
      "outputs": [
        {
          "output_type": "execute_result",
          "data": {
            "text/plain": [
              "999999999960.0"
            ]
          },
          "metadata": {
            "tags": []
          },
          "execution_count": 6
        }
      ]
    },
    {
      "cell_type": "markdown",
      "metadata": {
        "id": "JUkk796pANdG"
      },
      "source": [
        "# Задание 4\n",
        "\n",
        "Найдите, истинно ли, что 3 в 15 степени больше 3000 при условии, что 3 в 7й степени меньше 7 в 5й."
      ]
    },
    {
      "cell_type": "code",
      "metadata": {
        "colab": {
          "base_uri": "https://localhost:8080/"
        },
        "id": "rvFW5AjF5JDm",
        "outputId": "86658752-331a-4ae5-8349-5ee9866f508b"
      },
      "source": [
        "#Ваше решение тут\n",
        "3**15 > 3000 and 3**7 < 7**5"
      ],
      "execution_count": null,
      "outputs": [
        {
          "output_type": "execute_result",
          "data": {
            "text/plain": [
              "True"
            ]
          },
          "metadata": {
            "tags": []
          },
          "execution_count": 7
        }
      ]
    },
    {
      "cell_type": "markdown",
      "metadata": {
        "id": "fIJhD6MSA7Sm"
      },
      "source": [
        "# Задание 5\n",
        "Мы принимаем целое число на ввод с клавиатуры (код предоставлен), вывести \"цена выше рынка\", если число выше 1200, \"цена ниже рыночной\", если число меньше 800 и \"все ок\" в остальных случаях."
      ]
    },
    {
      "cell_type": "code",
      "metadata": {
        "colab": {
          "base_uri": "https://localhost:8080/"
        },
        "id": "WDFHl1t650ir",
        "outputId": "d3a6778b-3607-4ba8-bf68-d2e6023d7e43"
      },
      "source": [
        "#Ваше решение тут\n",
        "price = int(input('Введите цену товара: '))\n",
        "if price > 1200:\n",
        "  print('цена выше рынка')\n",
        "elif price < 800:\n",
        "  print('цена ниже рыночной')\n",
        "else:\n",
        "  print('все ок')\n",
        "\n"
      ],
      "execution_count": null,
      "outputs": [
        {
          "output_type": "stream",
          "text": [
            "Введите цену товара: 1000\n",
            "все ок\n"
          ],
          "name": "stdout"
        }
      ]
    },
    {
      "cell_type": "markdown",
      "metadata": {
        "id": "t-FCWwCmBNjV"
      },
      "source": [
        "# Задание 6\n",
        "\n",
        "Даны два словаря: dictionary_1 = {'price_1': 300, 'price_2': 400} и dictionary_2 = {'price_1': 500, 'price_3': 600}. Объедините их в один при помощи встроенных функций языка Python (методов объекта dict)."
      ]
    },
    {
      "cell_type": "code",
      "metadata": {
        "colab": {
          "base_uri": "https://localhost:8080/"
        },
        "id": "ywDRnbTS6gLA",
        "outputId": "a4336aed-8363-4d97-d74d-66317a732502"
      },
      "source": [
        "#Ваше решение тут\n",
        "dictionary_1 = {'price_1': 300, 'price_2': 400} \n",
        "dictionary_2 = {'price_1': 500, 'price_3': 600}\n",
        "dictionary_1.update(dictionary_2)\n",
        "dictionary_1"
      ],
      "execution_count": null,
      "outputs": [
        {
          "output_type": "execute_result",
          "data": {
            "text/plain": [
              "{'price_1': 500, 'price_2': 400, 'price_3': 600}"
            ]
          },
          "metadata": {
            "tags": []
          },
          "execution_count": 13
        }
      ]
    },
    {
      "cell_type": "markdown",
      "metadata": {
        "id": "VYrTaYnpDv3e"
      },
      "source": [
        "# Задание 7\n",
        "Сравните время, затраченное на вычисление частного списков list со значениями от 1 до 10^6 и время, затраченное на вычисление частного массивов типа numpy arrays со значениями от 1 до 10^6 (см. пункт \" Numpy array vs Python list\" в этом ноутбуке)\n",
        "\n",
        "*Подсказка! для генерации list используйте функцию range(), для генерации numpy array - np.arange()*"
      ]
    },
    {
      "cell_type": "code",
      "metadata": {
        "colab": {
          "base_uri": "https://localhost:8080/"
        },
        "id": "ZxcxSWC86jo8",
        "outputId": "43bd6a8a-b0fd-406b-f1e4-b29436ce0628"
      },
      "source": [
        "#Ваше решение тут\n",
        "import time\n",
        "import numpy as np\n",
        "# size of arrays and lists \n",
        "size = 1000000  \n",
        "\n",
        "# создадим списки типа list\n",
        "list1 = range(1,size) # range() создает list() с элементами от 1 до size, те до 1000000\n",
        "list2 = range(1,size) \n",
        "   \n",
        "# создадим массивы типа ndarrays \n",
        "array1 = np.arange(1,size)   \n",
        "array2 = np.arange(1,size) \n",
        "\n",
        "print(\"\\n Частное массивов :\")\n",
        "\n",
        "# Включим счетчик времени перед умножением\n",
        "initialTime = time.time() \n",
        "  \n",
        "# перемножим элементы списков\n",
        "resultantList = [(a / b) for a, b in zip(list1, list2)] \n",
        "   \n",
        "# посчитаем затраченное время\n",
        "print(\"Время затраченное на деление списков типа list:\",  \n",
        "      (time.time() - initialTime), \n",
        "      \"секунд\") \n",
        "   \n",
        "# Включим счетчик времени перед умножением\n",
        "initialTime = time.time() \n",
        "  \n",
        "# перемножим элементы массивов \n",
        "resultantArray = array1 / array2 \n",
        "   \n",
        "# посчитаем затраченное время\n",
        "print(\"Время затраченное на деление массивов типа ndarray:\", \n",
        "      (time.time() - initialTime), \n",
        "      \"секунд\") "
      ],
      "execution_count": null,
      "outputs": [
        {
          "output_type": "stream",
          "text": [
            "\n",
            " Частное массивов :\n",
            "Время затраченное на деление списков типа list: 0.1076042652130127 секунд\n",
            "Время затраченное на деление массивов типа ndarray: 0.00452423095703125 секунд\n"
          ],
          "name": "stdout"
        }
      ]
    },
    {
      "cell_type": "markdown",
      "metadata": {
        "id": "rw7v8PGlFeKj"
      },
      "source": [
        "# Задание 8\n",
        "\n",
        "Напишите цикл, который выводит все числа от 0 до 500, делящиеся на 7, если в них есть цифра 8.\n",
        "Подсказка: переменную типа int можно привести к типу str:\n",
        "```\n",
        "x = 5\n",
        "y = str(x)\n",
        "```"
      ]
    },
    {
      "cell_type": "code",
      "metadata": {
        "colab": {
          "base_uri": "https://localhost:8080/"
        },
        "id": "SN7bqmUQ6oOb",
        "outputId": "deaf061d-d015-466f-ac46-d82fa4e7bb91"
      },
      "source": [
        "#Ваше решение тут\n",
        "for i in range(500):\n",
        "  if i % 7 == 0 and '8' in str(i):\n",
        "    print(i) "
      ],
      "execution_count": null,
      "outputs": [
        {
          "output_type": "stream",
          "text": [
            "28\n",
            "84\n",
            "98\n",
            "168\n",
            "182\n",
            "189\n",
            "238\n",
            "280\n",
            "287\n",
            "308\n",
            "378\n",
            "385\n",
            "448\n",
            "483\n"
          ],
          "name": "stdout"
        }
      ]
    },
    {
      "cell_type": "markdown",
      "metadata": {
        "id": "ORiF3smuGPSU"
      },
      "source": [
        "# Задание 9\n",
        "Дан массив строк mas. Одной строкой создайте словарь, в котором по ключу строки будет записана пара (кортеж длины 2) (индекс строки в массиве mas, длина строки)"
      ]
    },
    {
      "cell_type": "code",
      "metadata": {
        "colab": {
          "base_uri": "https://localhost:8080/"
        },
        "id": "Xy6ThSUL6rKc",
        "outputId": "0ed53ea5-148e-486f-e5f2-6ef643be9d35"
      },
      "source": [
        "mas = ['abc', 'def', 'hello', 'world']\n",
        "#Ваше решение тут\n",
        "dicts = {mas[i]:(i,len(mas[i])) for i in range(len(mas))}\n",
        "dicts"
      ],
      "execution_count": null,
      "outputs": [
        {
          "output_type": "execute_result",
          "data": {
            "text/plain": [
              "{'abc': (0, 3), 'def': (1, 3), 'hello': (2, 5), 'world': (3, 5)}"
            ]
          },
          "metadata": {
            "tags": []
          },
          "execution_count": 10
        }
      ]
    },
    {
      "cell_type": "markdown",
      "metadata": {
        "id": "JOfOYKkNHMPy"
      },
      "source": [
        "# Задание 10\n",
        "Реализовать функцию, которая сохраняет в 2 глобальные переменные:\n",
        "сумму всех позиционных аргументов - релизовать через lambda;\n",
        "название всех именованных аргументов в виде списка."
      ]
    },
    {
      "cell_type": "code",
      "metadata": {
        "colab": {
          "base_uri": "https://localhost:8080/"
        },
        "id": "5PfHOsim6weD",
        "outputId": "bbcb1777-0656-4d79-ee96-cb352a894591"
      },
      "source": [
        "summ = 0\n",
        "names = []\n",
        "# #Ваше решение тут\n",
        "another_func = lambda *args, **kwargs: (sum(args), kwargs)\n",
        "af = another_func(1, 2, 3, a=4, b=5)\n",
        "summ = af[0]\n",
        "for key in af[1]:\n",
        "  names.append(key)\n",
        "print(f'Cумма {summ}, названия {names}')"
      ],
      "execution_count": 1,
      "outputs": [
        {
          "output_type": "stream",
          "text": [
            "Cумма 6, названия ['a', 'b']\n"
          ],
          "name": "stdout"
        }
      ]
    }
  ]
}