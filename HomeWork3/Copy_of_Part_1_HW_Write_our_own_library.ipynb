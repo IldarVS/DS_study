{
  "nbformat": 4,
  "nbformat_minor": 0,
  "metadata": {
    "colab": {
      "name": "Copy of Part_1_HW_Write_our_own_library.ipynb",
      "provenance": [],
      "collapsed_sections": [],
      "toc_visible": true
    },
    "kernelspec": {
      "name": "python3",
      "display_name": "Python 3"
    }
  },
  "cells": [
    {
      "cell_type": "markdown",
      "metadata": {
        "id": "-PkQ9hSoulSP"
      },
      "source": [
        "## Домашнее задание. Часть 1.\n",
        "\n",
        "- напишем свою собственную библиотеку\n",
        "\n",
        "Вего за эту часть ДЗ можно набрать максимум **11.5 баллов**. Разбиение баллов по каждой из задач представлено непосредственно перед текстом каждой задачи.\n",
        "\n",
        "**Дедлайн - пятница, 11.12.2020 в 23:59.**\n",
        "\n",
        "Дедлайн жесткий, сдача после дедлайна - 0 баллов за ДЗ."
      ]
    },
    {
      "cell_type": "markdown",
      "metadata": {
        "id": "raMUrDs_OUUp"
      },
      "source": [
        "Ссылка на ноутбук в колабе: https://colab.research.google.com/drive/1LgWtESFmiNW1WlVFCHKyNl_BxAWxoL3Z?usp=sharing"
      ]
    },
    {
      "cell_type": "markdown",
      "metadata": {
        "id": "f3Phh5EpEYgI"
      },
      "source": [
        "# Ссылка на ДЗ в гитхабе"
      ]
    },
    {
      "cell_type": "markdown",
      "metadata": {
        "id": "e8p_4vgtEiE4"
      },
      "source": [
        "https://colab.research.google.com/drive/1w4UAwf1JfsoKbBk3wybLLQjrWqKo16t_?usp=sharing"
      ]
    },
    {
      "cell_type": "markdown",
      "metadata": {
        "id": "DlJPKMxvBZDq"
      },
      "source": [
        "Допустим мы хотим написать фнкцию, которая складывает 2 числа и сохранить ее в отдельный .py файл. Пример:"
      ]
    },
    {
      "cell_type": "code",
      "metadata": {
        "colab": {
          "base_uri": "https://localhost:8080/"
        },
        "id": "YWxx_tJFBWXc",
        "outputId": "9e13c521-8f48-46e1-a156-258d0deebe3e"
      },
      "source": [
        "%%writefile lib.py\n",
        "def summ(a1, b1):\n",
        "    return a1+b1"
      ],
      "execution_count": null,
      "outputs": [
        {
          "output_type": "stream",
          "text": [
            "Overwriting lib.py\n"
          ],
          "name": "stdout"
        }
      ]
    },
    {
      "cell_type": "code",
      "metadata": {
        "id": "GpwqwV2XBWe0"
      },
      "source": [
        "from lib import summ"
      ],
      "execution_count": null,
      "outputs": []
    },
    {
      "cell_type": "code",
      "metadata": {
        "colab": {
          "base_uri": "https://localhost:8080/"
        },
        "id": "PdSwrEkYud_1",
        "outputId": "edbad121-0faa-417e-b125-a71a87864899"
      },
      "source": [
        "summ(2,6)"
      ],
      "execution_count": null,
      "outputs": [
        {
          "output_type": "execute_result",
          "data": {
            "text/plain": [
              "8"
            ]
          },
          "metadata": {
            "tags": []
          },
          "execution_count": 13
        }
      ]
    },
    {
      "cell_type": "markdown",
      "metadata": {
        "id": "lzVEq6dcB_B6"
      },
      "source": [
        "Попробуем запустить через \"терминал\""
      ]
    },
    {
      "cell_type": "code",
      "metadata": {
        "id": "GnvjY52dB9F0"
      },
      "source": [
        "!python3 lib.py"
      ],
      "execution_count": null,
      "outputs": []
    },
    {
      "cell_type": "markdown",
      "metadata": {
        "id": "12k4C-iDCGD5"
      },
      "source": [
        "Ничего не происходит. А теперь добавим `if __name__ == \"__main__\"` в наш код и пересохраним файл lib.py"
      ]
    },
    {
      "cell_type": "code",
      "metadata": {
        "colab": {
          "base_uri": "https://localhost:8080/"
        },
        "id": "EXxDy4EoujyT",
        "outputId": "364d0e51-c0ad-4ba6-d306-65fb57530773"
      },
      "source": [
        "%%writefile lib.py\n",
        "import sys\n",
        "\n",
        "a1 = float( sys.argv[1] ) # Считываем аргументы прямо из терминала\n",
        "b1 = float( sys.argv[2] ) # Считываем аргументы прямо из терминала\n",
        "\n",
        "def summ(a1, b1):\n",
        "    return a1+b1\n",
        "\n",
        "if __name__ == \"__main__\":\n",
        "    print(summ(a1, b1))\n"
      ],
      "execution_count": null,
      "outputs": [
        {
          "output_type": "stream",
          "text": [
            "Overwriting lib.py\n"
          ],
          "name": "stdout"
        }
      ]
    },
    {
      "cell_type": "code",
      "metadata": {
        "colab": {
          "base_uri": "https://localhost:8080/"
        },
        "id": "9kg9IKcWuj1F",
        "outputId": "39a7f3af-fb61-46c7-8692-41df40f81b75"
      },
      "source": [
        "!python3 lib.py 2 4"
      ],
      "execution_count": null,
      "outputs": [
        {
          "output_type": "stream",
          "text": [
            "6.0\n"
          ],
          "name": "stdout"
        }
      ]
    },
    {
      "cell_type": "markdown",
      "metadata": {
        "id": "MEQd0OJnD4ut"
      },
      "source": [
        "# **Задание 1**\n",
        "\n",
        "Реализуйте следующие функции и сохраните их в библиотеку **my_math_lib.py** (пока без использования конструкции `if __name__ == \"__main__\"`)"
      ]
    },
    {
      "cell_type": "markdown",
      "metadata": {
        "id": "-irvYNmrD9FA"
      },
      "source": [
        "**1 point** \n",
        "1. **def deg_to_rad()**. Напишите программу на Python для преобразования градусов в радианы.  *(Note: Радиан - это стандартная единица измерения угла, используемая во многих областях математики. Измерение угла в радианах численно равно длине соответствующей дуги единичного круга; один радиан чуть меньше 57,3 градуса)* **1 point**\n",
        "\n",
        "**1 point** \n",
        "2. **def rad_to_def()**. Напишите программу Python для преобразования радианов в градусы.\n",
        "\n",
        "**1.5 point** \n",
        "3. **def discriminant()**. Напишите программу на Python для вычисления значения дискриминанта (вспоминаем квадратные уравнения). Входные данные три числа: x, y, z (учтите что корни могут быть комлЕксными!)\n",
        "\n",
        "**1.5 point** \n",
        "4. **def power_base_sum()**. Напишите программу на Python, чтобы вычислить сумму всех цифр основания в указанной степени.\n",
        "\n",
        "Пример: power_base_sum(2, 100)\n",
        "\n",
        "Выход: 115\n",
        "\n",
        "\n",
        "\n",
        "**2 point** \n",
        "5. **def magic_square()**. Напишите программу на Python для вычисления [магического квадрата](https://ru.wikipedia.org/wiki/Магический_квадрат)\n",
        "\n",
        "Note:\n",
        "\n",
        "Магический, или волшебный квадрат — это квадратная таблица , заполненная числами таким образом, что сумма чисел в каждой строке, каждом столбце и на обеих диагоналях одинакова. Сумма чисел в каждой строке, столбце и на диагоналях, называется магической константой, M.\n",
        "\n",
        "**1 point** \n",
        "6. **def mult_list()**. Напишите функцию Python для умножения всех чисел в массиве list(), (размер листа на входе произвольный)\n",
        "\n",
        "**1 point** \n",
        "7. **def create_list()**. Напишите функцию Python для создания и вывода списка (при помощи print()), в котором значения представляют собой квадрат чисел от 1 до 30 (оба включительно)."
      ]
    },
    {
      "cell_type": "code",
      "metadata": {
        "id": "cxjYPNRAIBqe",
        "colab": {
          "base_uri": "https://localhost:8080/"
        },
        "outputId": "ee7d9117-2b62-4d6a-8a70-aaa602dc9c14"
      },
      "source": [
        "#TODO\n",
        "%%writefile my_math_lib.py\n",
        "import sys\n",
        "import math\n",
        "from random import randint\n",
        "import numpy as np\n",
        "\n",
        "# Напишите программу на Python для преобразования градусов в радианы. (Note: Радиан - это стандартная единица измерения угла, используемая во многих областях математики. \n",
        "# Измерение угла в радианах численно равно длине соответствующей дуги единичного круга; один радиан чуть меньше 57,3 градуса) \n",
        "\n",
        "def deg_to_rad(rad):\n",
        "    return 180*rad/math.pi\n",
        "\n",
        " # Считываем аргументы прямо из терминала\n",
        "\n",
        "#. Напишите программу Python для преобразования радианов в градусы.\n",
        "def rad_to_def(deg):\n",
        "    return math.pi * deg /180  \n",
        "\n",
        "# Напишите программу на Python для вычисления значения дискриминанта (вспоминаем квадратные уравнения). \n",
        "# Входные данные три числа: x, y, z (учтите что корни могут быть комлЕксными!)\n",
        "\n",
        "def discriminant(a, b, c):\n",
        "    D = b**2 - 4 * a * c\n",
        "    x = (- b) /(2*a)\n",
        "    dx = ((abs(D))**0.5)/(2*a) # чтоб красивый вывод был, если корень из дискриминанта не комплексное число\n",
        "    if D < 0:\n",
        "        dx = (complex(D**0.5))/(2*a)          \n",
        "    return x - dx, x + dx\n",
        "\n",
        "# Напишите программу на Python, чтобы вычислить сумму всех цифр основания в указанной степени.\n",
        "# Пример: power_base_sum(2, 100)\n",
        "# Выход: 115\n",
        "def power_base_sum(x, y):\n",
        "    power = str(x**y)\n",
        "    summ = 0\n",
        "    for i in power:\n",
        "        summ += int(i)\n",
        "    return summ\n",
        "\n",
        "# Напишите программу на Python для вычисления магического квадрата\n",
        "# Note:\n",
        "# Магический, или волшебный квадрат — это квадратная таблица , заполненная числами таким образом, \n",
        "# что сумма чисел в каждой строке, каждом столбце и на обеих диагоналях одинакова. \n",
        "# Сумма чисел в каждой строке, столбце и на диагоналях, называется магической константой, M.\n",
        "\n",
        "def magic_square(n):\n",
        "    #if n > 4 and n % 2 == 1:\n",
        "    square = np.array([0 for i in np.arange(n**2)])\n",
        "    square = square.reshape(n,n)\n",
        "    for i in range(1,n + 1):\n",
        "        for j in range(1,n + 1):\n",
        "          square[i-1][j-1] = int(1 + ((i + j - 1 + (n-1)/2)%n)* n + ((i + 2*j + 2)%n))\n",
        "    return square\n",
        "\n",
        "# Напишите функцию Python для умножения всех чисел в массиве list(), (размер листа на входе произвольный)\n",
        "def mult_list(list):\n",
        "    p = 1\n",
        "    for i in list:\n",
        "      p *= i\n",
        "    return p\n",
        "\n",
        "# Напишите функцию Python для создания и вывода списка (при помощи print()), \n",
        "# в котором значения представляют собой квадрат чисел от 1 до 30 (оба включительно).\n",
        "def create_list():\n",
        "     print([i**2 for i in range(1,31)])\n",
        "\n",
        "if __name__ == \"__main__\":\n",
        "    rad = float( sys.argv[1] )\n",
        "    print(deg_to_rad(rad))\n",
        "    deg = float( sys.argv[2] )\n",
        "    print(rad_to_def(deg))\n",
        "    x = float( sys.argv[3] )\n",
        "    y = float( sys.argv[4] )\n",
        "    z = float( sys.argv[5] )\n",
        "    print(discriminant(x, y, z))\n",
        "    n = int( sys.argv[6] )\n",
        "    list = list(range(1,randint(2,n)))\n",
        "    print(mult_list(list))\n",
        "    n = int( sys.argv[7] )\n",
        "    print(magic_square(n))\n"
      ],
      "execution_count": 1,
      "outputs": [
        {
          "output_type": "stream",
          "text": [
            "Writing my_math_lib.py\n"
          ],
          "name": "stdout"
        }
      ]
    },
    {
      "cell_type": "code",
      "metadata": {
        "id": "assWIk_uTguR"
      },
      "source": [
        "from my_math_lib import *"
      ],
      "execution_count": 2,
      "outputs": []
    },
    {
      "cell_type": "code",
      "metadata": {
        "colab": {
          "base_uri": "https://localhost:8080/"
        },
        "id": "V6UoUzzOTw52",
        "outputId": "2d277fbb-6790-4c75-8a02-d9a58fb9dce5"
      },
      "source": [
        "deg = deg_to_rad(3)\n",
        "print(deg)\n",
        "print(rad_to_def(deg))\n",
        "print(discriminant(1, 1, 1))\n",
        "list1 = [i for i in range(1, randint(2,10))]\n",
        "print(mult_list(list1)) \n",
        "create_list()\n",
        "print(power_base_sum(2, 100))\n",
        "magic_square(4)"
      ],
      "execution_count": 4,
      "outputs": [
        {
          "output_type": "stream",
          "text": [
            "171.88733853924697\n",
            "3.0\n",
            "((-0.5-0.8660254037844386j), (-0.49999999999999994+0.8660254037844386j))\n",
            "40320\n",
            "[1, 4, 9, 16, 25, 36, 49, 64, 81, 100, 121, 144, 169, 196, 225, 256, 289, 324, 361, 400, 441, 484, 529, 576, 625, 676, 729, 784, 841, 900]\n",
            "115\n"
          ],
          "name": "stdout"
        },
        {
          "output_type": "execute_result",
          "data": {
            "text/plain": [
              "array([[12, 18,  4, 10],\n",
              "       [17,  3,  9, 11],\n",
              "       [ 6,  8, 14, 16],\n",
              "       [ 7, 13, 15,  5]])"
            ]
          },
          "metadata": {
            "tags": []
          },
          "execution_count": 4
        }
      ]
    },
    {
      "cell_type": "markdown",
      "metadata": {
        "id": "cSdLK3ZSID3B"
      },
      "source": [
        "# **Задание 2**\n",
        "Импортируйте все методы из модуля my_math_lib.\n",
        "\n",
        " **0.25 point** \n",
        " - при помощи функции **def discriminant()** посчитайте дискриминант следующего уравнения: \n",
        " $x^{2}+3 x+4=0$\n",
        "\n",
        "**0.25 point** \n",
        " - постройте магический квадрат размера 5х5"
      ]
    },
    {
      "cell_type": "code",
      "metadata": {
        "id": "k1Jhjs6FD8Sy"
      },
      "source": [
        "from my_math_lib import * #TODO"
      ],
      "execution_count": null,
      "outputs": []
    },
    {
      "cell_type": "code",
      "metadata": {
        "id": "zjQVS7m8uj4J",
        "colab": {
          "base_uri": "https://localhost:8080/"
        },
        "outputId": "767e0979-d35f-4ed8-a496-88a1f4be61de"
      },
      "source": [
        "print(discriminant(1,3,4))\n",
        "magic_square(5)\n"
      ],
      "execution_count": null,
      "outputs": [
        {
          "output_type": "stream",
          "text": [
            "((-1.5-1.3228756555322954j), (-1.5+1.3228756555322954j))\n"
          ],
          "name": "stdout"
        },
        {
          "output_type": "execute_result",
          "data": {
            "text/plain": [
              "array([[16, 23,  5,  7, 14],\n",
              "       [22,  4,  6, 13, 20],\n",
              "       [ 3, 10, 12, 19, 21],\n",
              "       [ 9, 11, 18, 25,  2],\n",
              "       [15, 17, 24,  1,  8]])"
            ]
          },
          "metadata": {
            "tags": []
          },
          "execution_count": 5
        }
      ]
    },
    {
      "cell_type": "markdown",
      "metadata": {
        "id": "1xqoQlZkId3s"
      },
      "source": [
        "# **Задание 3**\n",
        "\n",
        "**2 point**\n",
        "* Добавьте в вашу библиотеку конструкцию `if __name__ == \"__main__\"`, которая должна принимать одну из вышеперечисленных функций. \n",
        "* Важно! аргументы, подаваемые в функцию, должны подаваться напряму через терминал (как в примере)! Используйте для этого библиотеку `sys`"
      ]
    },
    {
      "cell_type": "code",
      "metadata": {
        "id": "CPMx4V4DJIVx",
        "colab": {
          "base_uri": "https://localhost:8080/"
        },
        "outputId": "4d3cc1d1-71c7-4897-d617-d400123feb4d"
      },
      "source": [
        "#TODO\n",
        "%%writefile my_math_lib.py\n",
        "import sys\n",
        "import math\n",
        "from random import randint\n",
        "import numpy as np\n",
        "\n",
        "# Напишите программу на Python для преобразования градусов в радианы. (Note: Радиан - это стандартная единица измерения угла, используемая во многих областях математики. \n",
        "# Измерение угла в радианах численно равно длине соответствующей дуги единичного круга; один радиан чуть меньше 57,3 градуса) \n",
        "\n",
        "def deg_to_rad(rad):\n",
        "    return 180*rad/math.pi\n",
        "\n",
        " # Считываем аргументы прямо из терминала\n",
        "\n",
        "#. Напишите программу Python для преобразования радианов в градусы.\n",
        "def rad_to_def(deg):\n",
        "    return math.pi * deg /180  \n",
        "\n",
        "# Напишите программу на Python для вычисления значения дискриминанта (вспоминаем квадратные уравнения). \n",
        "# Входные данные три числа: x, y, z (учтите что корни могут быть комлЕксными!)\n",
        "\n",
        "def discriminant(a, b, c):\n",
        "    D = b**2 - 4 * a * c\n",
        "    x = (- b) /(2*a)\n",
        "    dx = ((abs(D))**0.5)/(2*a) # чтоб красивый вывод был, если корень из дискриминанта не комплексное число\n",
        "    if D < 0:\n",
        "        dx = (complex(D**0.5))/(2*a)          \n",
        "    return x - dx, x + dx\n",
        "\n",
        "# Напишите программу на Python, чтобы вычислить сумму всех цифр основания в указанной степени.\n",
        "# Пример: power_base_sum(2, 100)\n",
        "# Выход: 115\n",
        "def power_base_sum(x, y):\n",
        "    power = str(x**y)\n",
        "    summ = 0\n",
        "    for i in power:\n",
        "        summ += int(i)\n",
        "    return summ\n",
        "\n",
        "# Напишите программу на Python для вычисления магического квадрата\n",
        "# Note:\n",
        "# Магический, или волшебный квадрат — это квадратная таблица , заполненная числами таким образом, \n",
        "# что сумма чисел в каждой строке, каждом столбце и на обеих диагоналях одинакова. \n",
        "# Сумма чисел в каждой строке, столбце и на диагоналях, называется магической константой, M.\n",
        "\n",
        "def magic_square(n):\n",
        "    if n > 4 and n % 2 == 1:\n",
        "        square = np.array([0 for i in np.arange(n**2)])\n",
        "        square = square.reshape(n,n)\n",
        "        for i in range(1,n + 1):\n",
        "            for j in range(1,n + 1):\n",
        "              square[i-1][j-1] = int(1 + ((i + j - 1 + (n-1)/2)%n)* n + ((i + 2*j + 2)%n))\n",
        "        return square\n",
        "\n",
        "# Напишите функцию Python для умножения всех чисел в массиве list(), (размер листа на входе произвольный)\n",
        "def mult_list(list):\n",
        "    p = 1\n",
        "    for i in list:\n",
        "      p *= i\n",
        "    return p\n",
        "\n",
        "# Напишите функцию Python для создания и вывода списка (при помощи print()), \n",
        "# в котором значения представляют собой квадрат чисел от 1 до 30 (оба включительно).\n",
        "def create_list():\n",
        "     print([i**2 for i in range(1,31)])\n",
        "\n",
        "if __name__ == \"__main__\":\n",
        "    rad = float( sys.argv[1] )\n",
        "    print(deg_to_rad(rad))\n",
        "    deg = float( sys.argv[2] )\n",
        "    print(rad_to_def(deg))\n",
        "    x = float( sys.argv[3] )\n",
        "    y = float( sys.argv[4] )\n",
        "    z = float( sys.argv[5] )\n",
        "    print(discriminant(x, y, z))\n",
        "    n = int( sys.argv[6] )\n",
        "    list = list(range(1,randint(2,n)))\n",
        "    print(mult_list(list))\n",
        "    n = int( sys.argv[7] )\n",
        "    print(magic_square(n))"
      ],
      "execution_count": null,
      "outputs": [
        {
          "output_type": "stream",
          "text": [
            "Overwriting my_math_lib.py\n"
          ],
          "name": "stdout"
        }
      ]
    },
    {
      "cell_type": "code",
      "metadata": {
        "id": "RAeJ3p1BJX05",
        "colab": {
          "base_uri": "https://localhost:8080/"
        },
        "outputId": "c99c5654-e9a0-42c8-f160-a1400fb14341"
      },
      "source": [
        "# Пример вызова функции - Вы можете вызвать любую другую\n",
        "!python3 my_math_lib.py 3 171.88733853924697 1 2 1 100 7 # Например если в __main__ вы указали def discriminant()"
      ],
      "execution_count": null,
      "outputs": [
        {
          "output_type": "stream",
          "text": [
            "171.88733853924697\n",
            "3.0\n",
            "(-1.0, -1.0)\n",
            "61234458376886086861524070385274672740778091784697328983823014963978384987221689274204160000000000000000\n",
            "[[34 36 45  5 14 16 25]\n",
            " [42 44  4 13 15 24 33]\n",
            " [43  3 12 21 23 32 41]\n",
            " [ 2 11 20 22 31 40 49]\n",
            " [10 19 28 30 39 48  1]\n",
            " [18 27 29 38 47  7  9]\n",
            " [26 35 37 46  6  8 17]]\n"
          ],
          "name": "stdout"
        }
      ]
    },
    {
      "cell_type": "code",
      "metadata": {
        "id": "UDQ_wTJbJAS7"
      },
      "source": [
        ""
      ],
      "execution_count": null,
      "outputs": []
    }
  ]
}