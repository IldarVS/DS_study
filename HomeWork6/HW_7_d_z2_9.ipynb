{
  "nbformat": 4,
  "nbformat_minor": 0,
  "metadata": {
    "colab": {
      "name": "HW_7_d_z2-9.ipynb",
      "provenance": [],
      "collapsed_sections": []
    },
    "kernelspec": {
      "name": "python3",
      "display_name": "Python 3"
    }
  },
  "cells": [
    {
      "cell_type": "markdown",
      "metadata": {
        "id": "HYdyOuNrerjD"
      },
      "source": [
        "https://colab.research.google.com/drive/1E4iwTNy2uERueLWqzrVJD-KgBu8mnemA?usp=sharing"
      ]
    },
    {
      "cell_type": "markdown",
      "metadata": {
        "id": "nCYWvlCZLiM_"
      },
      "source": [
        "__2.__\r\n",
        "Найти сумму и произведение матриц $A=\\begin{pmatrix}\r\n",
        "1 & -2\\\\ \r\n",
        "3 & 0\r\n",
        "\\end{pmatrix}$ и $B=\\begin{pmatrix}\r\n",
        "4 & -1\\\\ \r\n",
        "0 & 5\r\n",
        "\\end{pmatrix}.$\r\n"
      ]
    },
    {
      "cell_type": "markdown",
      "metadata": {
        "id": "1QXOJWJtLkk7"
      },
      "source": [
        "сумма "
      ]
    },
    {
      "cell_type": "markdown",
      "metadata": {
        "id": "oLUKRwq7LrUY"
      },
      "source": [
        "$A + B =\\begin{pmatrix}\r\n",
        "1 & -2\\\\ \r\n",
        "3 & 0\r\n",
        "\\end{pmatrix}$ + $\\begin{pmatrix}\r\n",
        "4 & -1\\\\ \r\n",
        "0 & 5\r\n",
        "\\end{pmatrix}$ = $\\begin{pmatrix}\r\n",
        "1+4 & (-2)+(-1)\\\\ \r\n",
        "3+0 & 0+5\r\n",
        "\\end{pmatrix}$= $\\begin{pmatrix}\r\n",
        "5 & -3\\\\ \r\n",
        "3 & 5\r\n",
        "\\end{pmatrix}$"
      ]
    },
    {
      "cell_type": "markdown",
      "metadata": {
        "id": "XoPExaFnLvig"
      },
      "source": [
        "Произведение"
      ]
    },
    {
      "cell_type": "markdown",
      "metadata": {
        "id": "iR_wl0DxLy0m"
      },
      "source": [
        "$A * B =\\begin{pmatrix}\r\n",
        "1 & -2\\\\ \r\n",
        "3 & 0\r\n",
        "\\end{pmatrix}$ * $\\begin{pmatrix}\r\n",
        "4 & -1\\\\ \r\n",
        "0 & 5\r\n",
        "\\end{pmatrix}$ = $\\begin{pmatrix}\r\n",
        "1*4 + (-2)*0 & 1*(-1)+(-2)*5\\\\ \r\n",
        "3*4+0*0 & 3*(-1)+ 0*5\r\n",
        "\\end{pmatrix}$= $\\begin{pmatrix}\r\n",
        "4 & -11\\\\ \r\n",
        "12 & -3\r\n",
        "\\end{pmatrix}$"
      ]
    },
    {
      "cell_type": "code",
      "metadata": {
        "colab": {
          "base_uri": "https://localhost:8080/"
        },
        "id": "YbNrk1EnQJmL",
        "outputId": "50358f7e-65ea-4fb9-ee4b-51f16cbdd90a"
      },
      "source": [
        "import numpy as np\r\n",
        "a = np.array([[1,-2],[3,0]])\r\n",
        "b = np.array([[4,-1],[0,5]])\r\n",
        "c = a + b\r\n",
        "d = a @ b\r\n",
        "print(c)\r\n",
        "print(d)"
      ],
      "execution_count": 10,
      "outputs": [
        {
          "output_type": "stream",
          "text": [
            "[[ 5 -3]\n",
            " [ 3  5]]\n",
            "[[  4 -11]\n",
            " [ 12  -3]]\n"
          ],
          "name": "stdout"
        }
      ]
    },
    {
      "cell_type": "markdown",
      "metadata": {
        "id": "7jDiEuPGODLE"
      },
      "source": [
        "__3.__ Из закономерностей сложения и умножения матриц на число можно сделать вывод, что матрицы одного размера образуют линейное пространство. Вычислить линейную комбинацию $3A-2B+4C$ для матриц $A=\\begin{pmatrix}\r\n",
        "1 & 7\\\\ \r\n",
        "3 & -6\r\n",
        "\\end{pmatrix}$, $B=\\begin{pmatrix}\r\n",
        "0 & 5\\\\ \r\n",
        "2 & -1\r\n",
        "\\end{pmatrix}$, $C=\\begin{pmatrix}\r\n",
        "2 & -4\\\\ \r\n",
        "1 & 1\r\n",
        "\\end{pmatrix}.$"
      ]
    },
    {
      "cell_type": "markdown",
      "metadata": {
        "id": "_9SUGg0LOcGo"
      },
      "source": [
        "$3A-2B+4C$ = $3*\\begin{pmatrix}\r\n",
        "1 & 7\\\\ \r\n",
        "3 & -6\r\n",
        "\\end{pmatrix}$ - $2*\\begin{pmatrix}\r\n",
        "0 & 5\\\\ \r\n",
        "2 & -1\r\n",
        "\\end{pmatrix}$ + $4*\\begin{pmatrix}\r\n",
        "2 & -4\\\\ \r\n",
        "1 & 1\r\n",
        "\\end{pmatrix}$ = $\\begin{pmatrix}\r\n",
        "3 & 21\\\\ \r\n",
        "9 & -18\r\n",
        "\\end{pmatrix}$ - $\\begin{pmatrix}\r\n",
        "0 & 10\\\\ \r\n",
        "4 & -2\r\n",
        "\\end{pmatrix}$ + $\\begin{pmatrix}\r\n",
        "8 & -16\\\\ \r\n",
        "4 & 4\r\n",
        "\\end{pmatrix}$ = $\\begin{pmatrix}\r\n",
        "11 & -5\\\\ \r\n",
        "9 & -12\r\n",
        "\\end{pmatrix}$ "
      ]
    },
    {
      "cell_type": "code",
      "metadata": {
        "colab": {
          "base_uri": "https://localhost:8080/"
        },
        "id": "hQRwP14DTvPQ",
        "outputId": "4a0299a2-814e-4256-fec3-1915ac5efe44"
      },
      "source": [
        "import numpy as np\r\n",
        "a = np.array([[1,7],[3,-6]])\r\n",
        "b = np.array([[0,5],[2,-1]])\r\n",
        "c = np.array([[2,-4],[1,1]])\r\n",
        "d = 3*a - 2*b + 4*c \r\n",
        "print(d)"
      ],
      "execution_count": 11,
      "outputs": [
        {
          "output_type": "stream",
          "text": [
            "[[ 11  -5]\n",
            " [  9 -12]]\n"
          ],
          "name": "stdout"
        }
      ]
    },
    {
      "cell_type": "markdown",
      "metadata": {
        "id": "4VqbLPk2ZvhT"
      },
      "source": [
        "__4.__ Дана матрица $A=\\begin{pmatrix}\r\n",
        "4 & 1\\\\ \r\n",
        "5 & -2\\\\ \r\n",
        "2 & 3\r\n",
        "\\end{pmatrix}$.\r\n",
        "Вычислить $AA^{T}$ и $A^{T}A$."
      ]
    },
    {
      "cell_type": "markdown",
      "metadata": {
        "id": "aMIqWgXyaMzP"
      },
      "source": [
        "$A^{T}=\\begin{pmatrix}\r\n",
        "4 & 5 & 2\\\\ \r\n",
        "1 & -2 & 3\\\\ \r\n",
        "\\end{pmatrix}$\r\n",
        "\r\n",
        "$AA^{T} = \\begin{pmatrix}\r\n",
        "4 & 1\\\\ \r\n",
        "5 & -2\\\\ \r\n",
        "2 & 3\r\n",
        "\\end{pmatrix}*\\begin{pmatrix}\r\n",
        "4 & 5 & 2\\\\ \r\n",
        "1 & -2 & 3\\\\ \r\n",
        "\\end{pmatrix}\r\n",
        "= = \\begin{pmatrix}\r\n",
        "4*4+1*1 & 5*4+(-2)* 1 & 2*4 +3*1\\\\ \r\n",
        "4*5+1*(-2) & 5*5+(-2)*(-2)& 5*2+(-2)*3\\\\ \r\n",
        "2*4+3*1 & 2*5+3*(-2)& 2*2+3*3 \\\\\r\n",
        "\\end{pmatrix} = \\begin{pmatrix}\r\n",
        "17 & 18 & 11\\\\ \r\n",
        "18 & 29& 4\\\\ \r\n",
        "11 & 4& 13 \\\\\r\n",
        "\\end{pmatrix}$\r\n",
        "$A^{T}A = \\begin{pmatrix}\r\n",
        "4 & 5 & 2\\\\ \r\n",
        "1 & -2 & 3\\\\ \r\n",
        "\\end{pmatrix}* \\begin{pmatrix}\r\n",
        "4 & 1\\\\ \r\n",
        "5 & -2\\\\ \r\n",
        "2 & 3 \\\\\r\n",
        "\\end{pmatrix} = \r\n",
        "\\begin{pmatrix}\r\n",
        "4*4+5*5+2*2 & 1*4+(-2)*5+3*2\\\\ \r\n",
        "1*4+ (-2)*5+3*2& 1*1+ (-2)*(-2)+3*3\\\\\r\n",
        "\\end{pmatrix}  = \\begin{pmatrix}\r\n",
        "45 & 0\\\\ \r\n",
        "0 & 14\\\\\r\n",
        "\r\n",
        "\\end{pmatrix}                                         $\r\n",
        "\r\n"
      ]
    },
    {
      "cell_type": "code",
      "metadata": {
        "colab": {
          "base_uri": "https://localhost:8080/"
        },
        "id": "MOLVFoLBotvu",
        "outputId": "96db49c7-7353-42f5-f9dc-84020d8c498c"
      },
      "source": [
        "import numpy as np\r\n",
        "a = np.array([[4,1],[5,-2],[2,3]])\r\n",
        "b = a.transpose()\r\n",
        "print(b)\r\n",
        "c = np.dot(a, b) \r\n",
        "d = b @ a \r\n",
        "print(c)\r\n",
        "print(d)"
      ],
      "execution_count": 50,
      "outputs": [
        {
          "output_type": "stream",
          "text": [
            "[[ 4  5  2]\n",
            " [ 1 -2  3]]\n",
            "[[17 18 11]\n",
            " [18 29  4]\n",
            " [11  4 13]]\n",
            "[[45  0]\n",
            " [ 0 14]]\n"
          ],
          "name": "stdout"
        }
      ]
    },
    {
      "cell_type": "markdown",
      "metadata": {
        "id": "hhyU6Nv472sB"
      },
      "source": [
        "5*. Написать на Python функцию для перемножения двух произвольных матриц, не используя NumPy."
      ]
    },
    {
      "cell_type": "code",
      "metadata": {
        "colab": {
          "base_uri": "https://localhost:8080/"
        },
        "id": "EMqce5mT7_nK",
        "outputId": "1a9a9829-f663-498d-cf78-4f4c62968d76"
      },
      "source": [
        "def multi_matrix(a,b): # функция для перемножения двух произвольных матриц\r\n",
        "  if a.shape[0] == b.shape[1]:# проверка совпадения количества строк 1 матрицы с количеством столбцов 2 матрицы\r\n",
        "    result_matrix = np.zeros(a.shape[0]*a.shape[0]).reshape(a.shape[0], a.shape[0]) # создание 0 результирующей  матрицы\r\n",
        "    # заполнение результирующей матрицы\r\n",
        "    for i in range(a.shape[0]):\r\n",
        "        for j in range(b.shape[1]):\r\n",
        "            for p in range(b.shape[0]):\r\n",
        "                result_matrix[i][j] += a[i][p]*b[p][j]   \r\n",
        "         \r\n",
        "    return result_matrix\r\n",
        "  else:\r\n",
        "    return f'количество строк 1 матрицы = {a.shape[0]} не совпадает с количеством столбцов 2 матрицы = {b.shape[1]}'\r\n",
        "a = np.array([[5,1],[1,1],[2,7]])# Любая матрица\r\n",
        "b = a.transpose() # матрица для проверки, гарантировано будет перемножаться \r\n",
        "print(multi_matrix(a,b)) # должен быть результат 100%\r\n",
        "print(multi_matrix(a,a)) "
      ],
      "execution_count": 73,
      "outputs": [
        {
          "output_type": "stream",
          "text": [
            "[[26.  6. 17.]\n",
            " [ 6.  2.  9.]\n",
            " [17.  9. 53.]]\n",
            "количество строк 1 матрицы = 3 не совпадает с количеством столбцов 2 матрицы = 2\n"
          ],
          "name": "stdout"
        }
      ]
    },
    {
      "cell_type": "markdown",
      "metadata": {
        "id": "WaU5dINM2JjH"
      },
      "source": [
        "__6.__ Вычислить определитель (используйте любой удобный для вас способ вычисления определителя: через миноры, через перестановки или другой):\r\n",
        "\r\n",
        "   a)\r\n",
        "\r\n",
        "$$\\begin{vmatrix}\r\n",
        "sinx & -cosx\\\\ \r\n",
        "cosx & sinx\r\n",
        "\\end{vmatrix};$$\r\n",
        "\r\n",
        "$det = sinx * sinx - (-cosx) * cosx = sin^2x+cos^2x =1$\r\n",
        "\r\n",
        "   б)\r\n",
        "    \r\n",
        "$$\\begin{vmatrix}\r\n",
        "8 & 4 & 6\\\\ \r\n",
        "0 & 5 & 1\\\\ \r\n",
        "0 & 0 & 9\r\n",
        "\\end{vmatrix};$$\r\n",
        "\r\n",
        "$det  = 8 * (5*9 - 1*0) - 4* (0*9-1*0) + 6 * (0*0-5*0) = 360$\r\n",
        "    \r\n",
        "   в)\r\n",
        "\r\n",
        "$$\\begin{vmatrix}\r\n",
        "2 & 3 & 4\\\\ \r\n",
        "5 & 6 & 7\\\\ \r\n",
        "8 & 9 & 10\r\n",
        "\\end{vmatrix}.$$\r\n",
        "\r\n",
        "$det =  2*(6*10- 7*9) - 3*(5·10 - 7·8) + 4*(5*9 - 6*8)= 0$"
      ]
    },
    {
      "cell_type": "code",
      "metadata": {
        "colab": {
          "base_uri": "https://localhost:8080/"
        },
        "id": "jd17I7gzbL-q",
        "outputId": "c07c57ab-a76f-4b75-8345-32c29226a4d0"
      },
      "source": [
        "import numpy as np\r\n",
        "import math\r\n",
        "a = np.array([[math.sin(0),-math.cos(0)],[math.cos(0),math.sin(0)]])\r\n",
        "print(np.linalg.det(a))\r\n",
        "b = np.array([[8,4,6],[0,5,1],[0,0,9]])\r\n",
        "print(np.linalg.det(b))\r\n",
        "c = np.array([[2,3,4],[5,6,7],[8,9,10]])\r\n",
        "print(np.linalg.det(c))"
      ],
      "execution_count": 76,
      "outputs": [
        {
          "output_type": "stream",
          "text": [
            "1.0\n",
            "360.00000000000006\n",
            "0.0\n"
          ],
          "name": "stdout"
        }
      ]
    },
    {
      "cell_type": "markdown",
      "metadata": {
        "id": "jwBV4JHJ4txY"
      },
      "source": [
        "_7._ Определитель матрицы $A$ равен $4$. Найти:\r\n",
        "\r\n",
        "   а) $det(A^{2}) = (detA)^{2}) = 4*4 = 16$;\r\n",
        "    \r\n",
        "   б) $det(A^{T})=det(A) = 4$;\r\n",
        "    \r\n",
        "   в) $det(2A) = 2 * det(A) = 2* 4 = 8$.\r\n",
        "   "
      ]
    },
    {
      "cell_type": "markdown",
      "metadata": {
        "id": "jW-0mNxp-EZR"
      },
      "source": [
        "__8.__  Доказать, что матрица\r\n",
        "\r\n",
        "$$\\begin{pmatrix}\r\n",
        "-2 & 7 & -3\\\\ \r\n",
        "4 & -14 & 6\\\\ \r\n",
        "-3 & 7 & 13\r\n",
        "\\end{pmatrix}$$\r\n",
        "   \r\n",
        "вырожденная.\r\n",
        "Матрица называется сингулярной, или вырожденной, если ее определитель равен нулю.\r\n",
        "\r\n",
        "Посчитаем определитель матрицы:\r\n",
        "$$det\\begin{pmatrix}\r\n",
        "-2 & 7 & -3\\\\ \r\n",
        "4 & -14 & 6\\\\ \r\n",
        "-3 & 7 & 13\r\n",
        "\\end{pmatrix}=-(-2)·(-14)·13 + 7·6·(-3) + (-3)·4·7 - (-3)·(-14)·(-3) - (-2)·6·7 - 7·4·13 = 364 - 126 - 84 + 126 + 84 - 364 = 0 $$"
      ]
    },
    {
      "cell_type": "code",
      "metadata": {
        "colab": {
          "base_uri": "https://localhost:8080/"
        },
        "id": "6Q8yLR_la-E7",
        "outputId": "bc73c5f4-7940-4bf0-fb20-f45aba61fbe7"
      },
      "source": [
        "import numpy as np\r\n",
        "import math\r\n",
        "c = np.array([[-2,7,-3],[4,-14,6],[-3,7,13]])\r\n",
        "print(np.linalg.det(c))"
      ],
      "execution_count": 77,
      "outputs": [
        {
          "output_type": "stream",
          "text": [
            "0.0\n"
          ],
          "name": "stdout"
        }
      ]
    },
    {
      "cell_type": "markdown",
      "metadata": {
        "id": "g8u6krit-Lsr"
      },
      "source": [
        "__9.__ Найти ранг матрицы:\r\n",
        "\r\n",
        "   а) $\\begin{pmatrix}\r\n",
        "1 & 2 & 3\\\\ \r\n",
        "1 & 1 & 1\\\\ \r\n",
        "2 & 3 & 4\r\n",
        "\\end{pmatrix};$\r\n",
        "сумма 1 и 2 строки равны 3 строке, значит 3 строка зависимая и ее можно исключить из матрицы \r\n",
        "далее отнимем от 1 строки 2 строку получим матрицу,в которой ненулевых строк 2, то Rank = 2 \r\n",
        "$\\begin{pmatrix}\r\n",
        "1 & 2 & 3\\\\ \r\n",
        "0 & 1 & 2\\\\ \r\n",
        "0 & 0 & 0\r\n",
        "\\end{pmatrix}$\r\n",
        "\r\n",
        "б) \r\n",
        "$\\begin{pmatrix}\r\n",
        "0 & 0 & 2 & 1\\\\ \r\n",
        "0 & 0 & 2 & 2\\\\ \r\n",
        "0 & 0 & 4 & 3\\\\ \r\n",
        "2 & 3 & 5 & 6\r\n",
        "\\end{pmatrix}.$\r\n",
        "все тоже самое с помощью преобразвания строк (сумма 1 и 2 равна 3) можно исключить 3 строку, тнимем от 2 строки первую  - и получим следующий вид\r\n",
        "$\\begin{pmatrix}\r\n",
        "0 & 0 & 0 & 1\\\\ \r\n",
        "0 & 0 & 2 & 2\\\\ \r\n",
        "0 & 0 & 0 & 0\\\\ \r\n",
        "2 & 3 & 5 & 6\r\n",
        "\\end{pmatrix}.$\r\n",
        " на основании этого можно сделать вывод что  Rank = 3\r\n"
      ]
    },
    {
      "cell_type": "code",
      "metadata": {
        "colab": {
          "base_uri": "https://localhost:8080/"
        },
        "id": "Pq7bVbvgdcC2",
        "outputId": "491ab094-5f39-47cf-a746-a20b055ad3c1"
      },
      "source": [
        "import numpy as np\r\n",
        "a = np.array([[1,2,3],[1,1,1],[2,3,4]])\r\n",
        "print(f'Ранг матрицы a: {np.linalg.matrix_rank(a)}')\r\n",
        "b = np.array([[0,0,0,1],[0,0,2,2],[0,0,4,3],[2,3,5,6]])\r\n",
        "print(f'Ранг матрицы b: {np.linalg.matrix_rank(b)}')\r\n",
        "\r\n"
      ],
      "execution_count": 82,
      "outputs": [
        {
          "output_type": "stream",
          "text": [
            "Ранг матрицы a: 2\n",
            "Ранг матрицы b: 3\n"
          ],
          "name": "stdout"
        }
      ]
    }
  ]
}